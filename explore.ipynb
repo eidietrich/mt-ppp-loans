{
 "cells": [
  {
   "cell_type": "code",
   "execution_count": 126,
   "metadata": {},
   "outputs": [],
   "source": [
    "import pandas as pd\n",
    "import numpy as np\n",
    "pd.options.display.max_rows = 200"
   ]
  },
  {
   "cell_type": "code",
   "execution_count": 166,
   "metadata": {},
   "outputs": [],
   "source": [
    "df = pd.read_csv('mt-ppp-loans.csv')\n",
    "# cleaning\n",
    "df['BusinessName'] = df['BusinessName'].str.strip()\n",
    "df['industry'] = df['industry'].str.strip()\n",
    "df['Address'] = df['Address'].str.strip()\n",
    "df['City'] = df['City'].replace({\n",
    "    '3010 STEVENSVILLE': 'STEVENSVILLE',\n",
    "    '416 BELGRADE': 'BELGRADE',\n",
    "    'BILLINGS,': 'BILLINGS',\n",
    "    'BOZEMAN, MT': 'BOZEMAN',\n",
    "    'CORVALLIS,': 'CORVALLIS',\n",
    "    'GALITIN GATEWAY': 'GALLATIN GATEWAY',\n",
    "    'GALLATIN GTWY': 'GALLATIN GATEWAY',\n",
    "    'GREATFALLS': 'GREAT FALLS',\n",
    "    'KALISPEL': 'KALISPELL',\n",
    "    'MC LEOD': 'MCLEOD',\n",
    "    'POMPEY PILLAR': 'POMPEYS PILLAR',\n",
    "    'SWEETGRASS': 'SWEET GRASS',\n",
    "    'THOMPSON FALLS,': 'THOMPSON FALLS',\n",
    "    'THOMPSON FLS': 'THOMPSON FALLS',\n",
    "    'W YELLOWSTONE': 'WEST YELLOWSTONE',\n",
    "    'WHITE FISH': 'WHITEFISH',\n",
    "})\n"
   ]
  },
  {
   "cell_type": "code",
   "execution_count": 167,
   "metadata": {},
   "outputs": [],
   "source": [
    "df.to_csv('mt-ppp-loans.csv', index=False)"
   ]
  },
  {
   "cell_type": "code",
   "execution_count": 189,
   "metadata": {},
   "outputs": [],
   "source": [
    "# by zip\n",
    "temp = pd.read_csv('mt-ppp-loans.csv', na_values='undisclosed')\n",
    "by_zip = temp.groupby('Zip').agg(\n",
    "    count=('BusinessType','count')\n",
    ")\n",
    "by_zip = by_zip.reset_index().rename(columns={'Zip': 'zip_code'})\n",
    "by_zip.to_csv('by_zip.csv', index=False)"
   ]
  },
  {
   "cell_type": "code",
   "execution_count": 181,
   "metadata": {},
   "outputs": [
    {
     "data": {
      "text/html": [
       "<div>\n",
       "<style scoped>\n",
       "    .dataframe tbody tr th:only-of-type {\n",
       "        vertical-align: middle;\n",
       "    }\n",
       "\n",
       "    .dataframe tbody tr th {\n",
       "        vertical-align: top;\n",
       "    }\n",
       "\n",
       "    .dataframe thead th {\n",
       "        text-align: right;\n",
       "    }\n",
       "</style>\n",
       "<table border=\"1\" class=\"dataframe\">\n",
       "  <thead>\n",
       "    <tr style=\"text-align: right;\">\n",
       "      <th></th>\n",
       "      <th>LoanRange</th>\n",
       "      <th>LoanAmount</th>\n",
       "      <th>BusinessName</th>\n",
       "      <th>Address</th>\n",
       "      <th>City</th>\n",
       "      <th>State</th>\n",
       "      <th>Zip</th>\n",
       "      <th>BusinessType</th>\n",
       "      <th>NAICSCode</th>\n",
       "      <th>industry</th>\n",
       "      <th>industry_broad</th>\n",
       "      <th>RaceEthnicity</th>\n",
       "      <th>Gender</th>\n",
       "      <th>Veteran</th>\n",
       "      <th>NonProfit</th>\n",
       "      <th>JobsRetained</th>\n",
       "      <th>DateApproved</th>\n",
       "      <th>Lender</th>\n",
       "      <th>CD</th>\n",
       "    </tr>\n",
       "  </thead>\n",
       "  <tbody>\n",
       "    <tr>\n",
       "      <th>1395</th>\n",
       "      <td>i $10,000-$25,000</td>\n",
       "      <td>$13,020</td>\n",
       "      <td>NaN</td>\n",
       "      <td>NaN</td>\n",
       "      <td>TREGO</td>\n",
       "      <td>MT</td>\n",
       "      <td>59934</td>\n",
       "      <td>Corporation</td>\n",
       "      <td>484121</td>\n",
       "      <td>General Freight Trucking, Long-Distance, Truck...</td>\n",
       "      <td>Transportation</td>\n",
       "      <td>Unanswered</td>\n",
       "      <td>Unanswered</td>\n",
       "      <td>Unanswered</td>\n",
       "      <td>NaN</td>\n",
       "      <td>1.0</td>\n",
       "      <td>5/5/20</td>\n",
       "      <td>First Interstate Bank</td>\n",
       "      <td>MT - 00</td>\n",
       "    </tr>\n",
       "    <tr>\n",
       "      <th>1560</th>\n",
       "      <td>i $10,000-$25,000</td>\n",
       "      <td>$13,700</td>\n",
       "      <td>NaN</td>\n",
       "      <td>NaN</td>\n",
       "      <td>TREGO</td>\n",
       "      <td>MT</td>\n",
       "      <td>59934</td>\n",
       "      <td>Limited  Liability Company(LLC)</td>\n",
       "      <td>453998</td>\n",
       "      <td>All Other Miscellaneous Store Retailers (excep...</td>\n",
       "      <td>Retail Trade</td>\n",
       "      <td>Unanswered</td>\n",
       "      <td>Unanswered</td>\n",
       "      <td>Unanswered</td>\n",
       "      <td>NaN</td>\n",
       "      <td>NaN</td>\n",
       "      <td>4/14/20</td>\n",
       "      <td>Glacier Bank</td>\n",
       "      <td>MT - 00</td>\n",
       "    </tr>\n",
       "    <tr>\n",
       "      <th>2654</th>\n",
       "      <td>j &lt;$10,000</td>\n",
       "      <td>$3,200</td>\n",
       "      <td>NaN</td>\n",
       "      <td>NaN</td>\n",
       "      <td>TREGO</td>\n",
       "      <td>MT</td>\n",
       "      <td>59934</td>\n",
       "      <td>Limited  Liability Company(LLC)</td>\n",
       "      <td>531311</td>\n",
       "      <td>Residential Property Managers</td>\n",
       "      <td>Real Estate and Rental and Leasing</td>\n",
       "      <td>Unanswered</td>\n",
       "      <td>Unanswered</td>\n",
       "      <td>Unanswered</td>\n",
       "      <td>NaN</td>\n",
       "      <td>3.0</td>\n",
       "      <td>4/4/20</td>\n",
       "      <td>First Federal Bank &amp; Trust</td>\n",
       "      <td>MT - 00</td>\n",
       "    </tr>\n",
       "  </tbody>\n",
       "</table>\n",
       "</div>"
      ],
      "text/plain": [
       "              LoanRange LoanAmount BusinessName Address   City State    Zip  \\\n",
       "1395  i $10,000-$25,000   $13,020           NaN     NaN  TREGO    MT  59934   \n",
       "1560  i $10,000-$25,000   $13,700           NaN     NaN  TREGO    MT  59934   \n",
       "2654         j <$10,000    $3,200           NaN     NaN  TREGO    MT  59934   \n",
       "\n",
       "                         BusinessType  NAICSCode  \\\n",
       "1395                      Corporation     484121   \n",
       "1560  Limited  Liability Company(LLC)     453998   \n",
       "2654  Limited  Liability Company(LLC)     531311   \n",
       "\n",
       "                                               industry  \\\n",
       "1395  General Freight Trucking, Long-Distance, Truck...   \n",
       "1560  All Other Miscellaneous Store Retailers (excep...   \n",
       "2654                      Residential Property Managers   \n",
       "\n",
       "                          industry_broad RaceEthnicity      Gender  \\\n",
       "1395                      Transportation    Unanswered  Unanswered   \n",
       "1560                        Retail Trade    Unanswered  Unanswered   \n",
       "2654  Real Estate and Rental and Leasing    Unanswered  Unanswered   \n",
       "\n",
       "         Veteran NonProfit  JobsRetained DateApproved  \\\n",
       "1395  Unanswered       NaN           1.0       5/5/20   \n",
       "1560  Unanswered       NaN           NaN      4/14/20   \n",
       "2654  Unanswered       NaN           3.0       4/4/20   \n",
       "\n",
       "                          Lender       CD  \n",
       "1395       First Interstate Bank  MT - 00  \n",
       "1560                Glacier Bank  MT - 00  \n",
       "2654  First Federal Bank & Trust  MT - 00  "
      ]
     },
     "execution_count": 181,
     "metadata": {},
     "output_type": "execute_result"
    }
   ],
   "source": [
    "temp[temp['Zip'] == 59934]"
   ]
  },
  {
   "cell_type": "code",
   "execution_count": 149,
   "metadata": {},
   "outputs": [],
   "source": [
    "# sorted(list(df['NonProfit'].unique()))"
   ]
  },
  {
   "cell_type": "code",
   "execution_count": 156,
   "metadata": {},
   "outputs": [
    {
     "data": {
      "text/plain": [
       "array(['Health Care and Social Assistance',\n",
       "       'Administrative and Support and Waste Management and Remediation Services',\n",
       "       'Professional, Scientific, and Technical Services',\n",
       "       'Finance and Insurance', 'Construction',\n",
       "       'Other Services (except Public Administration)',\n",
       "       'Educational Services', 'Wholesale Trade', 'Retail Trade',\n",
       "       'Public Administration', 'Transportation',\n",
       "       'Accommodation and Food Services', 'Manufacturing', 'Information',\n",
       "       'Real Estate and Rental and Leasing',\n",
       "       'Mining, Quarrying, and Oil and Gas Extraction', 'Utilities',\n",
       "       'Arts, Entertainment, and Recreation',\n",
       "       'Agriculture, Forestry, Fishing and Hunting',\n",
       "       'Management of Companies and Enterprises', nan], dtype=object)"
      ]
     },
     "execution_count": 156,
     "metadata": {},
     "output_type": "execute_result"
    }
   ],
   "source": [
    "df['industry_broad'].unique()"
   ]
  },
  {
   "cell_type": "code",
   "execution_count": 160,
   "metadata": {},
   "outputs": [
    {
     "data": {
      "text/plain": [
       "Index(['LoanRange', 'LoanAmount', 'BusinessName', 'Address', 'City', 'State',\n",
       "       'Zip', 'BusinessType', 'NAICSCode', 'industry', 'industry_broad',\n",
       "       'RaceEthnicity', 'Gender', 'Veteran', 'NonProfit', 'JobsRetained',\n",
       "       'DateApproved', 'Lender', 'CD'],\n",
       "      dtype='object')"
      ]
     },
     "execution_count": 160,
     "metadata": {},
     "output_type": "execute_result"
    }
   ],
   "source": [
    "df.columns"
   ]
  },
  {
   "cell_type": "code",
   "execution_count": 109,
   "metadata": {},
   "outputs": [],
   "source": [
    "cols = ['LoanRange','LoanAmount','BusinessName','City','industry','industry_cat','JobsRetained']"
   ]
  },
  {
   "cell_type": "code",
   "execution_count": 21,
   "metadata": {},
   "outputs": [
    {
     "data": {
      "text/plain": [
       "22785"
      ]
     },
     "execution_count": 21,
     "metadata": {},
     "output_type": "execute_result"
    }
   ],
   "source": [
    "# Number of loans\n",
    "len(df)"
   ]
  },
  {
   "cell_type": "code",
   "execution_count": 22,
   "metadata": {},
   "outputs": [
    {
     "data": {
      "text/plain": [
       "i $10,000-$25,000       6340\n",
       "j <$10,000              6115\n",
       "h $25,000-$50,000       3905\n",
       "g $50,000-$100,000      3055\n",
       "e $150,000-350,000      1377\n",
       "f $100,000-150,000      1184\n",
       "d $350,000-1 million     582\n",
       "c $1-2 million           154\n",
       "b $2-5 million            63\n",
       "a $5-10 million           10\n",
       "Name: LoanRange, dtype: int64"
      ]
     },
     "execution_count": 22,
     "metadata": {},
     "output_type": "execute_result"
    }
   ],
   "source": [
    "# By loan range\n",
    "df['LoanRange'].value_counts()"
   ]
  },
  {
   "cell_type": "code",
   "execution_count": 117,
   "metadata": {},
   "outputs": [
    {
     "data": {
      "text/plain": [
       "14484"
      ]
     },
     "execution_count": 117,
     "metadata": {},
     "output_type": "execute_result"
    }
   ],
   "source": [
    "1377 + 582 + 154 + 63 + 10 # > 150k\n",
    "6340 + 3905 + 3055 + 1184  # 10k - <150k"
   ]
  },
  {
   "cell_type": "code",
   "execution_count": 24,
   "metadata": {},
   "outputs": [
    {
     "data": {
      "text/plain": [
       "Construction                                                                2551\n",
       "Professional, Scientific, and Technical Services                            2447\n",
       "Health Care and Social Assistance                                           2192\n",
       "Other Services (except Public Administration)                               2181\n",
       "Accommodation and Food Services                                             2151\n",
       "Retail Trade                                                                2011\n",
       "Agriculture, Forestry, Fishing and Hunting                                  1699\n",
       "Real Estate and Rental and Leasing                                          1153\n",
       "Manufacturing                                                               1041\n",
       "Arts, Entertainment, and Recreation                                          921\n",
       "Administrative and Support and Waste Management and Remediation Services     866\n",
       "Transportation                                                               721\n",
       "Utilities                                                                    685\n",
       "Finance and Insurance                                                        630\n",
       "Wholesale Trade                                                              617\n",
       "Educational Services                                                         291\n",
       "Mining, Quarrying, and Oil and Gas Extraction                                267\n",
       "Information                                                                  245\n",
       "Public Administration                                                         95\n",
       "Management of Companies and Enterprises                                       19\n",
       "Name: industry_cat, dtype: int64"
      ]
     },
     "execution_count": 24,
     "metadata": {},
     "output_type": "execute_result"
    }
   ],
   "source": [
    "# By industry\n",
    "df['industry_cat'].value_counts()"
   ]
  },
  {
   "cell_type": "code",
   "execution_count": 193,
   "metadata": {},
   "outputs": [],
   "source": [
    "df.pivot_table(columns='LoanRange',index='industry_broad', values='LoanAmount', aggfunc='count', fill_value=0).to_clipboard()"
   ]
  },
  {
   "cell_type": "code",
   "execution_count": 42,
   "metadata": {},
   "outputs": [],
   "source": [
    "large = df[df['LoanAmount'] == 'undisclosed']\n",
    "small = df[df['BusinessName'] == 'undisclosed']"
   ]
  },
  {
   "cell_type": "code",
   "execution_count": 54,
   "metadata": {},
   "outputs": [],
   "source": [
    "# df[df['industry'] == 'Religious Organizations'].head(20)"
   ]
  },
  {
   "cell_type": "code",
   "execution_count": 118,
   "metadata": {},
   "outputs": [],
   "source": [
    "# df['City'].value_counts().tail(200)"
   ]
  },
  {
   "cell_type": "code",
   "execution_count": 106,
   "metadata": {},
   "outputs": [
    {
     "data": {
      "text/html": [
       "<div>\n",
       "<style scoped>\n",
       "    .dataframe tbody tr th:only-of-type {\n",
       "        vertical-align: middle;\n",
       "    }\n",
       "\n",
       "    .dataframe tbody tr th {\n",
       "        vertical-align: top;\n",
       "    }\n",
       "\n",
       "    .dataframe thead th {\n",
       "        text-align: right;\n",
       "    }\n",
       "</style>\n",
       "<table border=\"1\" class=\"dataframe\">\n",
       "  <thead>\n",
       "    <tr style=\"text-align: right;\">\n",
       "      <th></th>\n",
       "      <th></th>\n",
       "      <th>count</th>\n",
       "    </tr>\n",
       "    <tr>\n",
       "      <th>industry_cat</th>\n",
       "      <th>industry</th>\n",
       "      <th></th>\n",
       "    </tr>\n",
       "  </thead>\n",
       "  <tbody>\n",
       "    <tr>\n",
       "      <th rowspan=\"3\" valign=\"top\">Accommodation and Food Services</th>\n",
       "      <th>Drinking Places (Alcoholic Beverages)</th>\n",
       "      <td>2</td>\n",
       "    </tr>\n",
       "    <tr>\n",
       "      <th>Full-Service Restaurants</th>\n",
       "      <td>5</td>\n",
       "    </tr>\n",
       "    <tr>\n",
       "      <th>Hotels (except Casino Hotels) and Motels</th>\n",
       "      <td>1</td>\n",
       "    </tr>\n",
       "    <tr>\n",
       "      <th rowspan=\"4\" valign=\"top\">Agriculture, Forestry, Fishing and Hunting</th>\n",
       "      <th>Beef Cattle Ranching and Farming</th>\n",
       "      <td>6</td>\n",
       "    </tr>\n",
       "    <tr>\n",
       "      <th>Hunting and Trapping</th>\n",
       "      <td>1</td>\n",
       "    </tr>\n",
       "    <tr>\n",
       "      <th>Logging</th>\n",
       "      <td>2</td>\n",
       "    </tr>\n",
       "    <tr>\n",
       "      <th>Support Activities for Animal Production</th>\n",
       "      <td>1</td>\n",
       "    </tr>\n",
       "    <tr>\n",
       "      <th rowspan=\"3\" valign=\"top\">Arts, Entertainment, and Recreation</th>\n",
       "      <th>Golf Courses and Country Clubs</th>\n",
       "      <td>1</td>\n",
       "    </tr>\n",
       "    <tr>\n",
       "      <th>Independent Artists, Writers, and Performers</th>\n",
       "      <td>1</td>\n",
       "    </tr>\n",
       "    <tr>\n",
       "      <th>Promoters of Performing Arts, Sports, and Similar Events without Facilities</th>\n",
       "      <td>1</td>\n",
       "    </tr>\n",
       "    <tr>\n",
       "      <th rowspan=\"2\" valign=\"top\">Construction</th>\n",
       "      <th>Electrical Contractors and Other Wiring Installation Contractors</th>\n",
       "      <td>1</td>\n",
       "    </tr>\n",
       "    <tr>\n",
       "      <th>New Multifamily Housing Construction (except For-Sale Builders)</th>\n",
       "      <td>1</td>\n",
       "    </tr>\n",
       "    <tr>\n",
       "      <th rowspan=\"3\" valign=\"top\">Health Care and Social Assistance</th>\n",
       "      <th>Child and Youth Services</th>\n",
       "      <td>1</td>\n",
       "    </tr>\n",
       "    <tr>\n",
       "      <th>Diagnostic Imaging Centers</th>\n",
       "      <td>1</td>\n",
       "    </tr>\n",
       "    <tr>\n",
       "      <th>General Medical and Surgical Hospitals</th>\n",
       "      <td>1</td>\n",
       "    </tr>\n",
       "    <tr>\n",
       "      <th rowspan=\"3\" valign=\"top\">Manufacturing</th>\n",
       "      <th>Breweries</th>\n",
       "      <td>1</td>\n",
       "    </tr>\n",
       "    <tr>\n",
       "      <th>Meat Processed from Carcasses</th>\n",
       "      <td>1</td>\n",
       "    </tr>\n",
       "    <tr>\n",
       "      <th>Welding and Soldering Equipment Manufacturing</th>\n",
       "      <td>1</td>\n",
       "    </tr>\n",
       "    <tr>\n",
       "      <th>Mining, Quarrying, and Oil and Gas Extraction</th>\n",
       "      <th>Copper, Nickel, Lead, and Zinc Mining</th>\n",
       "      <td>1</td>\n",
       "    </tr>\n",
       "    <tr>\n",
       "      <th>Other Services (except Public Administration)</th>\n",
       "      <th>Other Social Advocacy Organizations</th>\n",
       "      <td>1</td>\n",
       "    </tr>\n",
       "    <tr>\n",
       "      <th rowspan=\"2\" valign=\"top\">Professional, Scientific, and Technical Services</th>\n",
       "      <th>Administrative Management and General Management Consulting Services</th>\n",
       "      <td>1</td>\n",
       "    </tr>\n",
       "    <tr>\n",
       "      <th>Offices of Certified Public Accountants</th>\n",
       "      <td>1</td>\n",
       "    </tr>\n",
       "    <tr>\n",
       "      <th rowspan=\"4\" valign=\"top\">Retail Trade</th>\n",
       "      <th>All Other Miscellaneous Store Retailers (except Tobacco Stores)</th>\n",
       "      <td>1</td>\n",
       "    </tr>\n",
       "    <tr>\n",
       "      <th>Hardware Stores</th>\n",
       "      <td>1</td>\n",
       "    </tr>\n",
       "    <tr>\n",
       "      <th>Pharmacies and Drug Stores</th>\n",
       "      <td>1</td>\n",
       "    </tr>\n",
       "    <tr>\n",
       "      <th>Supermarkets and Other Grocery (except Convenience) Stores</th>\n",
       "      <td>2</td>\n",
       "    </tr>\n",
       "    <tr>\n",
       "      <th>Wholesale Trade</th>\n",
       "      <th>Recyclable Material Merchant Wholesalers</th>\n",
       "      <td>1</td>\n",
       "    </tr>\n",
       "  </tbody>\n",
       "</table>\n",
       "</div>"
      ],
      "text/plain": [
       "                                                                                                     count\n",
       "industry_cat                                     industry                                                 \n",
       "Accommodation and Food Services                  Drinking Places (Alcoholic Beverages)                   2\n",
       "                                                 Full-Service Restaurants                                5\n",
       "                                                 Hotels (except Casino Hotels) and Motels                1\n",
       "Agriculture, Forestry, Fishing and Hunting       Beef Cattle Ranching and Farming                        6\n",
       "                                                 Hunting and Trapping                                    1\n",
       "                                                 Logging                                                 2\n",
       "                                                 Support Activities for Animal Production                1\n",
       "Arts, Entertainment, and Recreation              Golf Courses and Country Clubs                          1\n",
       "                                                 Independent Artists, Writers, and Performers            1\n",
       "                                                 Promoters of Performing Arts, Sports, and Simil...      1\n",
       "Construction                                     Electrical Contractors and Other Wiring Install...      1\n",
       "                                                 New Multifamily Housing Construction (except Fo...      1\n",
       "Health Care and Social Assistance                Child and Youth Services                                1\n",
       "                                                 Diagnostic Imaging Centers                              1\n",
       "                                                 General Medical and Surgical Hospitals                  1\n",
       "Manufacturing                                    Breweries                                               1\n",
       "                                                 Meat Processed from Carcasses                           1\n",
       "                                                 Welding and Soldering Equipment Manufacturing           1\n",
       "Mining, Quarrying, and Oil and Gas Extraction    Copper, Nickel, Lead, and Zinc Mining                   1\n",
       "Other Services (except Public Administration)    Other Social Advocacy Organizations                     1\n",
       "Professional, Scientific, and Technical Services Administrative Management and General Managemen...      1\n",
       "                                                 Offices of Certified Public Accountants                 1\n",
       "Retail Trade                                     All Other Miscellaneous Store Retailers (except...      1\n",
       "                                                 Hardware Stores                                         1\n",
       "                                                 Pharmacies and Drug Stores                              1\n",
       "                                                 Supermarkets and Other Grocery (except Convenie...      2\n",
       "Wholesale Trade                                  Recyclable Material Merchant Wholesalers                1"
      ]
     },
     "execution_count": 106,
     "metadata": {},
     "output_type": "execute_result"
    }
   ],
   "source": [
    "df[df['City'] == 'WHITE SULPHUR SPRINGS'][cols].groupby(['industry_cat','industry']).agg(count=('LoanAmount','count'))\n"
   ]
  },
  {
   "cell_type": "code",
   "execution_count": 199,
   "metadata": {},
   "outputs": [
    {
     "data": {
      "text/plain": [
       "15"
      ]
     },
     "execution_count": 199,
     "metadata": {},
     "output_type": "execute_result"
    }
   ],
   "source": [
    "len(df[df['City'] == 'EKALAKA'])"
   ]
  },
  {
   "cell_type": "code",
   "execution_count": 202,
   "metadata": {},
   "outputs": [
    {
     "data": {
      "text/plain": [
       "NaN    0.955497\n",
       "Y      0.044503\n",
       "Name: NonProfit, dtype: float64"
      ]
     },
     "execution_count": 202,
     "metadata": {},
     "output_type": "execute_result"
    }
   ],
   "source": [
    "df['NonProfit'].value_counts(dropna=False, normalize=True)"
   ]
  },
  {
   "cell_type": "code",
   "execution_count": 141,
   "metadata": {},
   "outputs": [
    {
     "data": {
      "text/plain": [
       "893536.0"
      ]
     },
     "execution_count": 141,
     "metadata": {},
     "output_type": "execute_result"
    }
   ],
   "source": [
    "df[df['City'] == 'WHITE SULPHUR SPRINGS'][cols]['LoanAmount'].replace('undisclosed', np.nan).str.replace('$','').str.replace(',','').astype(float).sum()\n"
   ]
  },
  {
   "cell_type": "code",
   "execution_count": 124,
   "metadata": {},
   "outputs": [
    {
     "data": {
      "text/plain": [
       "\u001b[0;31mSignature:\u001b[0m \u001b[0msum\u001b[0m\u001b[0;34m(\u001b[0m\u001b[0miterable\u001b[0m\u001b[0;34m,\u001b[0m \u001b[0mstart\u001b[0m\u001b[0;34m=\u001b[0m\u001b[0;36m0\u001b[0m\u001b[0;34m,\u001b[0m \u001b[0;34m/\u001b[0m\u001b[0;34m)\u001b[0m\u001b[0;34m\u001b[0m\u001b[0;34m\u001b[0m\u001b[0m\n",
       "\u001b[0;31mDocstring:\u001b[0m\n",
       "Return the sum of a 'start' value (default: 0) plus an iterable of numbers\n",
       "\n",
       "When the iterable is empty, return the start value.\n",
       "This function is intended specifically for use with numeric values and may\n",
       "reject non-numeric types.\n",
       "\u001b[0;31mType:\u001b[0m      builtin_function_or_method\n"
      ]
     },
     "metadata": {},
     "output_type": "display_data"
    }
   ],
   "source": [
    "pd.Series().sum?"
   ]
  },
  {
   "cell_type": "code",
   "execution_count": null,
   "metadata": {},
   "outputs": [],
   "source": [
    "pd.Series().sum"
   ]
  },
  {
   "cell_type": "code",
   "execution_count": 142,
   "metadata": {},
   "outputs": [
    {
     "data": {
      "text/plain": [
       "1593536"
      ]
     },
     "execution_count": 142,
     "metadata": {},
     "output_type": "execute_result"
    }
   ],
   "source": [
    "893536 + 350000*2"
   ]
  },
  {
   "cell_type": "code",
   "execution_count": 200,
   "metadata": {},
   "outputs": [
    {
     "data": {
      "text/plain": [
       "22785"
      ]
     },
     "execution_count": 200,
     "metadata": {},
     "output_type": "execute_result"
    }
   ],
   "source": [
    " len(df)"
   ]
  },
  {
   "cell_type": "code",
   "execution_count": null,
   "metadata": {},
   "outputs": [],
   "source": []
  }
 ],
 "metadata": {
  "kernelspec": {
   "display_name": "Python 3",
   "language": "python",
   "name": "python3"
  },
  "language_info": {
   "codemirror_mode": {
    "name": "ipython",
    "version": 3
   },
   "file_extension": ".py",
   "mimetype": "text/x-python",
   "name": "python",
   "nbconvert_exporter": "python",
   "pygments_lexer": "ipython3",
   "version": "3.7.3"
  }
 },
 "nbformat": 4,
 "nbformat_minor": 4
}
